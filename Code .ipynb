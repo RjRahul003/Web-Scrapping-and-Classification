{
 "cells": [
  {
   "cell_type": "markdown",
   "metadata": {
    "colab_type": "text",
    "id": "9e6VwzTx9Avc"
   },
   "source": [
    "#**ASSIGNMENT**\n",
    "\n",
    "**OBJECTIVE :**\n",
    "\n",
    "Classifying videos (based on description) in following 6 categories –\n",
    "\n",
    "*   Travel Blogs\n",
    "*   Science and Technology\n",
    "*   Food\n",
    "*   Manufacturing\n",
    "*   History\n",
    "*   Art and Music\n",
    "\n",
    "**NOTE**\n",
    "\n",
    "Here we have used 3 different models for the classifiaction :- \n",
    "\n",
    "\n",
    "*   Logistic Regression (Linear classifier)\n",
    "*   Shallow Neural Nets \n",
    "*   LSTM\n",
    "\n",
    "\n"
   ]
  },
  {
   "cell_type": "code",
   "execution_count": 3,
   "metadata": {
    "colab": {
     "base_uri": "https://localhost:8080/",
     "height": 68
    },
    "colab_type": "code",
    "id": "Lr6a6NLr7G5M",
    "outputId": "06e9fa7c-5a50-49db-81de-30c18db3264c"
   },
   "outputs": [
    {
     "name": "stdout",
     "output_type": "stream",
     "text": [
      "[nltk_data] Downloading package stopwords to /root/nltk_data...\n",
      "[nltk_data]   Package stopwords is already up-to-date!\n"
     ]
    },
    {
     "data": {
      "text/plain": [
       "True"
      ]
     },
     "execution_count": 3,
     "metadata": {
      "tags": []
     },
     "output_type": "execute_result"
    }
   ],
   "source": [
    "import nltk\n",
    "nltk.download('stopwords')"
   ]
  },
  {
   "cell_type": "markdown",
   "metadata": {
    "colab_type": "text",
    "id": "wwMEpvI8-cp9"
   },
   "source": [
    "**Importing the required libraries**"
   ]
  },
  {
   "cell_type": "code",
   "execution_count": 0,
   "metadata": {
    "colab": {},
    "colab_type": "code",
    "id": "mcboF-xm7JIV"
   },
   "outputs": [],
   "source": [
    "import pandas as pd\n",
    "import numpy as np\n",
    "%matplotlib inline\n",
    "import matplotlib.pyplot as plt\n",
    "from bs4 import BeautifulSoup\n",
    "from tqdm import tqdm\n",
    "import re\n",
    "from nltk.corpus import stopwords\n",
    "from sklearn.model_selection import train_test_split\n",
    "from sklearn.feature_extraction.text import TfidfVectorizer\n",
    "from sklearn.linear_model import LogisticRegression\n",
    "import seaborn as sn\n",
    "import math\n",
    "from scipy.sparse import find\n",
    "from gensim.models import KeyedVectors\n",
    "from sklearn.externals import joblib\n",
    "from sklearn.metrics import average_precision_score\n",
    "from sklearn.metrics import confusion_matrix\n",
    "from scipy.sparse import hstack\n",
    "from sklearn.metrics import f1_score"
   ]
  },
  {
   "cell_type": "code",
   "execution_count": 0,
   "metadata": {
    "colab": {},
    "colab_type": "code",
    "id": "veHSsFxFQZX9"
   },
   "outputs": [],
   "source": [
    "df1 = pd.read_csv('combined.csv')"
   ]
  },
  {
   "cell_type": "code",
   "execution_count": 6,
   "metadata": {
    "colab": {
     "base_uri": "https://localhost:8080/",
     "height": 204
    },
    "colab_type": "code",
    "id": "JcJrr_k9QmRd",
    "outputId": "ef900241-c58f-4749-ec30-c52b47064578"
   },
   "outputs": [
    {
     "data": {
      "text/html": [
       "<div>\n",
       "<style scoped>\n",
       "    .dataframe tbody tr th:only-of-type {\n",
       "        vertical-align: middle;\n",
       "    }\n",
       "\n",
       "    .dataframe tbody tr th {\n",
       "        vertical-align: top;\n",
       "    }\n",
       "\n",
       "    .dataframe thead th {\n",
       "        text-align: right;\n",
       "    }\n",
       "</style>\n",
       "<table border=\"1\" class=\"dataframe\">\n",
       "  <thead>\n",
       "    <tr style=\"text-align: right;\">\n",
       "      <th></th>\n",
       "      <th>Unnamed: 0</th>\n",
       "      <th>video_id</th>\n",
       "      <th>title</th>\n",
       "      <th>description</th>\n",
       "      <th>category</th>\n",
       "    </tr>\n",
       "  </thead>\n",
       "  <tbody>\n",
       "    <tr>\n",
       "      <th>0</th>\n",
       "      <td>0</td>\n",
       "      <td>13E5azGDK1k</td>\n",
       "      <td>FINE ART Music and Painting PEACEFUL SELECTION...</td>\n",
       "      <td>CALM MELODIES AND BEAUTIFUL PICTURES Debussy, ...</td>\n",
       "      <td>art and music</td>\n",
       "    </tr>\n",
       "    <tr>\n",
       "      <th>1</th>\n",
       "      <td>1</td>\n",
       "      <td>8XdHP_fQoB0</td>\n",
       "      <td>Beautiful Paintings + Beautiful Classical Music</td>\n",
       "      <td>Beautiful selected paintings combine with some...</td>\n",
       "      <td>art and music</td>\n",
       "    </tr>\n",
       "    <tr>\n",
       "      <th>2</th>\n",
       "      <td>2</td>\n",
       "      <td>tsKlRF2Gw1s</td>\n",
       "      <td>The Great Masterpieces of Art &amp; Music</td>\n",
       "      <td>Skip the art museum and come experience “Great...</td>\n",
       "      <td>art and music</td>\n",
       "    </tr>\n",
       "    <tr>\n",
       "      <th>3</th>\n",
       "      <td>3</td>\n",
       "      <td>1b8xiXKd9Kk</td>\n",
       "      <td>Art: music &amp; painting - Van Gogh on Caggiano, ...</td>\n",
       "      <td>Buy “Art: Music &amp; Painting - Van Gogh on on Ca...</td>\n",
       "      <td>art and music</td>\n",
       "    </tr>\n",
       "    <tr>\n",
       "      <th>4</th>\n",
       "      <td>4</td>\n",
       "      <td>unuiaZleQ5c</td>\n",
       "      <td>Healing Flute Meditation Music For Positive En...</td>\n",
       "      <td>This is the official YouTube channel of The Ar...</td>\n",
       "      <td>art and music</td>\n",
       "    </tr>\n",
       "  </tbody>\n",
       "</table>\n",
       "</div>"
      ],
      "text/plain": [
       "   Unnamed: 0     video_id                                              title  \\\n",
       "0           0  13E5azGDK1k  FINE ART Music and Painting PEACEFUL SELECTION...   \n",
       "1           1  8XdHP_fQoB0    Beautiful Paintings + Beautiful Classical Music   \n",
       "2           2  tsKlRF2Gw1s              The Great Masterpieces of Art & Music   \n",
       "3           3  1b8xiXKd9Kk  Art: music & painting - Van Gogh on Caggiano, ...   \n",
       "4           4  unuiaZleQ5c  Healing Flute Meditation Music For Positive En...   \n",
       "\n",
       "                                         description       category  \n",
       "0  CALM MELODIES AND BEAUTIFUL PICTURES Debussy, ...  art and music  \n",
       "1  Beautiful selected paintings combine with some...  art and music  \n",
       "2  Skip the art museum and come experience “Great...  art and music  \n",
       "3  Buy “Art: Music & Painting - Van Gogh on on Ca...  art and music  \n",
       "4  This is the official YouTube channel of The Ar...  art and music  "
      ]
     },
     "execution_count": 6,
     "metadata": {
      "tags": []
     },
     "output_type": "execute_result"
    }
   ],
   "source": [
    "df1.head(5)"
   ]
  },
  {
   "cell_type": "code",
   "execution_count": 0,
   "metadata": {
    "colab": {},
    "colab_type": "code",
    "id": "jjCefJxfQu93"
   },
   "outputs": [],
   "source": [
    "df1.drop(['Unnamed: 0'], axis=1, inplace=True)"
   ]
  },
  {
   "cell_type": "code",
   "execution_count": 9,
   "metadata": {
    "colab": {
     "base_uri": "https://localhost:8080/",
     "height": 170
    },
    "colab_type": "code",
    "id": "J0b6Wp4CQjZS",
    "outputId": "6e9c9d1a-8349-4712-9e4c-b8c47675368f"
   },
   "outputs": [
    {
     "name": "stdout",
     "output_type": "stream",
     "text": [
      "<class 'pandas.core.frame.DataFrame'>\n",
      "Int64Index: 10496 entries, 0 to 8764\n",
      "Data columns (total 4 columns):\n",
      "video_id       10496 non-null object\n",
      "title          10493 non-null object\n",
      "description    10335 non-null object\n",
      "category       10496 non-null object\n",
      "dtypes: object(4)\n",
      "memory usage: 410.0+ KB\n"
     ]
    }
   ],
   "source": [
    "df1.info()"
   ]
  },
  {
   "cell_type": "code",
   "execution_count": 10,
   "metadata": {
    "colab": {
     "base_uri": "https://localhost:8080/",
     "height": 136
    },
    "colab_type": "code",
    "id": "AmzMn8LfQ27Q",
    "outputId": "ad8141ca-63c2-4668-c56b-247e9cbada09"
   },
   "outputs": [
    {
     "data": {
      "text/plain": [
       "science and technology    1774\n",
       "art and music             1769\n",
       "manufacturing             1759\n",
       "food                      1732\n",
       "travel blog               1731\n",
       "history                   1731\n",
       "Name: category, dtype: int64"
      ]
     },
     "execution_count": 10,
     "metadata": {
      "tags": []
     },
     "output_type": "execute_result"
    }
   ],
   "source": [
    "df1['category'].value_counts()"
   ]
  },
  {
   "cell_type": "markdown",
   "metadata": {
    "colab_type": "text",
    "id": "6NrgN9ln-72a"
   },
   "source": [
    "**Data Preprocessing **"
   ]
  },
  {
   "cell_type": "code",
   "execution_count": 0,
   "metadata": {
    "colab": {},
    "colab_type": "code",
    "id": "PaXCw39gYEod"
   },
   "outputs": [],
   "source": [
    "def decontracted(phrase):\n",
    "  # specific \n",
    "  phrase = re.sub(r\"won't\", \"will not\", phrase)\n",
    "  phrase = re.sub(r\"can't\", 'can not', phrase)\n",
    "  \n",
    "  # general\n",
    "  phrase = re.sub(r\"n\\'t\",\" not\", phrase)\n",
    "  phrase = re.sub(r\"\\'re'\",\" are\", phrase)\n",
    "  phrase = re.sub(r\"\\'s\",\" is\", phrase)\n",
    "  phrase = re.sub(r\"\\'ll\",\" will\", phrase)\n",
    "  phrase = re.sub(r\"\\'d\",\" would\", phrase)\n",
    "  phrase = re.sub(r\"\\'t\",\" not\", phrase)\n",
    "  phrase = re.sub(r\"\\'ve\",\" have\", phrase)\n",
    "  phrase = re.sub(r\"\\'m\",\" am\", phrase)\n",
    "  \n",
    "  return phrase"
   ]
  },
  {
   "cell_type": "code",
   "execution_count": 12,
   "metadata": {
    "colab": {
     "base_uri": "https://localhost:8080/",
     "height": 34
    },
    "colab_type": "code",
    "id": "j_t_L08AYh99",
    "outputId": "dd0d7ae9-eb4d-4ee3-92e5-3d145d6b06d9"
   },
   "outputs": [
    {
     "data": {
      "text/plain": [
       "179"
      ]
     },
     "execution_count": 12,
     "metadata": {
      "tags": []
     },
     "output_type": "execute_result"
    }
   ],
   "source": [
    "stop = set(stopwords.words('english'))\n",
    "len(stop)"
   ]
  },
  {
   "cell_type": "code",
   "execution_count": 13,
   "metadata": {
    "colab": {
     "base_uri": "https://localhost:8080/",
     "height": 34
    },
    "colab_type": "code",
    "id": "uBwaY9D6Yh7K",
    "outputId": "fa5cf0eb-4266-42f9-e5c3-6911d337a780"
   },
   "outputs": [
    {
     "name": "stderr",
     "output_type": "stream",
     "text": [
      "100%|██████████| 10496/10496 [00:04<00:00, 2306.49it/s]\n"
     ]
    }
   ],
   "source": [
    "preprocessed_title = []\n",
    "# tqdm is for printing the status bar\n",
    "for sentance in tqdm(df1['title'].values):\n",
    "    sentance = str(sentance)\n",
    "    sentance = re.sub(r\"http\\S+\", \"\", sentance)\n",
    "    sentance = BeautifulSoup(sentance, 'lxml').get_text()\n",
    "    sentance = decontracted(sentance)\n",
    "    sentance = re.sub(r'[?|!|\\'|\"|#|+]', r'', sentance)\n",
    "    #sentance = re.sub(r'[.|,|)|(|/|\\]', r'', sentance)\n",
    "    sentance = re.sub(\"\\S*\\d\\S*\", \"\", sentance).strip()\n",
    "    sentance = re.sub('[^A-Za-z]+', ' ', sentance)\n",
    "    sentance = ' '.join(e.lower() for e in sentance.split() if e.lower() not in stop)\n",
    "    preprocessed_title.append(sentance.strip())"
   ]
  },
  {
   "cell_type": "code",
   "execution_count": 14,
   "metadata": {
    "colab": {
     "base_uri": "https://localhost:8080/",
     "height": 204
    },
    "colab_type": "code",
    "id": "JAHfZtx7Yh4g",
    "outputId": "6a09875f-16f2-47f3-843a-d99075417e97"
   },
   "outputs": [
    {
     "data": {
      "text/html": [
       "<div>\n",
       "<style scoped>\n",
       "    .dataframe tbody tr th:only-of-type {\n",
       "        vertical-align: middle;\n",
       "    }\n",
       "\n",
       "    .dataframe tbody tr th {\n",
       "        vertical-align: top;\n",
       "    }\n",
       "\n",
       "    .dataframe thead th {\n",
       "        text-align: right;\n",
       "    }\n",
       "</style>\n",
       "<table border=\"1\" class=\"dataframe\">\n",
       "  <thead>\n",
       "    <tr style=\"text-align: right;\">\n",
       "      <th></th>\n",
       "      <th>video_id</th>\n",
       "      <th>title</th>\n",
       "      <th>description</th>\n",
       "      <th>category</th>\n",
       "    </tr>\n",
       "  </thead>\n",
       "  <tbody>\n",
       "    <tr>\n",
       "      <th>0</th>\n",
       "      <td>13E5azGDK1k</td>\n",
       "      <td>fine art music painting peaceful selection cal...</td>\n",
       "      <td>CALM MELODIES AND BEAUTIFUL PICTURES Debussy, ...</td>\n",
       "      <td>art and music</td>\n",
       "    </tr>\n",
       "    <tr>\n",
       "      <th>1</th>\n",
       "      <td>8XdHP_fQoB0</td>\n",
       "      <td>beautiful paintings beautiful classical music</td>\n",
       "      <td>Beautiful selected paintings combine with some...</td>\n",
       "      <td>art and music</td>\n",
       "    </tr>\n",
       "    <tr>\n",
       "      <th>2</th>\n",
       "      <td>tsKlRF2Gw1s</td>\n",
       "      <td>great masterpieces art music</td>\n",
       "      <td>Skip the art museum and come experience “Great...</td>\n",
       "      <td>art and music</td>\n",
       "    </tr>\n",
       "    <tr>\n",
       "      <th>3</th>\n",
       "      <td>1b8xiXKd9Kk</td>\n",
       "      <td>art music painting van gogh caggiano floridia ...</td>\n",
       "      <td>Buy “Art: Music &amp; Painting - Van Gogh on on Ca...</td>\n",
       "      <td>art and music</td>\n",
       "    </tr>\n",
       "    <tr>\n",
       "      <th>4</th>\n",
       "      <td>unuiaZleQ5c</td>\n",
       "      <td>healing flute meditation music positive energy...</td>\n",
       "      <td>This is the official YouTube channel of The Ar...</td>\n",
       "      <td>art and music</td>\n",
       "    </tr>\n",
       "  </tbody>\n",
       "</table>\n",
       "</div>"
      ],
      "text/plain": [
       "      video_id                                              title  \\\n",
       "0  13E5azGDK1k  fine art music painting peaceful selection cal...   \n",
       "1  8XdHP_fQoB0      beautiful paintings beautiful classical music   \n",
       "2  tsKlRF2Gw1s                       great masterpieces art music   \n",
       "3  1b8xiXKd9Kk  art music painting van gogh caggiano floridia ...   \n",
       "4  unuiaZleQ5c  healing flute meditation music positive energy...   \n",
       "\n",
       "                                         description       category  \n",
       "0  CALM MELODIES AND BEAUTIFUL PICTURES Debussy, ...  art and music  \n",
       "1  Beautiful selected paintings combine with some...  art and music  \n",
       "2  Skip the art museum and come experience “Great...  art and music  \n",
       "3  Buy “Art: Music & Painting - Van Gogh on on Ca...  art and music  \n",
       "4  This is the official YouTube channel of The Ar...  art and music  "
      ]
     },
     "execution_count": 14,
     "metadata": {
      "tags": []
     },
     "output_type": "execute_result"
    }
   ],
   "source": [
    "df1['title'] = preprocessed_title\n",
    "df1.head()"
   ]
  },
  {
   "cell_type": "code",
   "execution_count": 15,
   "metadata": {
    "colab": {
     "base_uri": "https://localhost:8080/",
     "height": 34
    },
    "colab_type": "code",
    "id": "WKXlfkKKYh1s",
    "outputId": "8d84cf37-37aa-4442-907d-cc51029c6a6f"
   },
   "outputs": [
    {
     "name": "stderr",
     "output_type": "stream",
     "text": [
      "100%|██████████| 10496/10496 [00:04<00:00, 2210.42it/s]\n"
     ]
    }
   ],
   "source": [
    "preprocessed_description = []\n",
    "# tqdm is for printing the status bar\n",
    "for sentance in tqdm(df1['description'].values):\n",
    "    sentance = str(sentance)\n",
    "    sentance = re.sub(r\"http\\S+\", \"\",(sentance))\n",
    "    sentance = BeautifulSoup(sentance, 'lxml').get_text()\n",
    "    sentance = decontracted(sentance)\n",
    "    sentance = re.sub(r'[?|!|\\'|\"|#|+]', r'', sentance)\n",
    "    #sentance = re.sub(r'[,|)|(|/|\\]', r'', sentance)\n",
    "    sentance = re.sub(\"\\S*\\d\\S*\", \"\", sentance).strip()\n",
    "    sentance = re.sub('[^A-Za-z]+', ' ', sentance)\n",
    "    sentance = ' '.join(e.lower() for e in sentance.split() if e.lower() not in stop)\n",
    "    preprocessed_description.append(sentance.strip())"
   ]
  },
  {
   "cell_type": "code",
   "execution_count": 16,
   "metadata": {
    "colab": {
     "base_uri": "https://localhost:8080/",
     "height": 204
    },
    "colab_type": "code",
    "id": "RqDF2vghYhy6",
    "outputId": "1c1ab115-ab1f-44f3-f6b9-5c5898df9fce"
   },
   "outputs": [
    {
     "data": {
      "text/html": [
       "<div>\n",
       "<style scoped>\n",
       "    .dataframe tbody tr th:only-of-type {\n",
       "        vertical-align: middle;\n",
       "    }\n",
       "\n",
       "    .dataframe tbody tr th {\n",
       "        vertical-align: top;\n",
       "    }\n",
       "\n",
       "    .dataframe thead th {\n",
       "        text-align: right;\n",
       "    }\n",
       "</style>\n",
       "<table border=\"1\" class=\"dataframe\">\n",
       "  <thead>\n",
       "    <tr style=\"text-align: right;\">\n",
       "      <th></th>\n",
       "      <th>video_id</th>\n",
       "      <th>title</th>\n",
       "      <th>description</th>\n",
       "      <th>category</th>\n",
       "    </tr>\n",
       "  </thead>\n",
       "  <tbody>\n",
       "    <tr>\n",
       "      <th>0</th>\n",
       "      <td>13E5azGDK1k</td>\n",
       "      <td>fine art music painting peaceful selection cal...</td>\n",
       "      <td>calm melodies beautiful pictures debussy milen...</td>\n",
       "      <td>art and music</td>\n",
       "    </tr>\n",
       "    <tr>\n",
       "      <th>1</th>\n",
       "      <td>8XdHP_fQoB0</td>\n",
       "      <td>beautiful paintings beautiful classical music</td>\n",
       "      <td>beautiful selected paintings combine best clas...</td>\n",
       "      <td>art and music</td>\n",
       "    </tr>\n",
       "    <tr>\n",
       "      <th>2</th>\n",
       "      <td>tsKlRF2Gw1s</td>\n",
       "      <td>great masterpieces art music</td>\n",
       "      <td>skip art museum come experience great masterpi...</td>\n",
       "      <td>art and music</td>\n",
       "    </tr>\n",
       "    <tr>\n",
       "      <th>3</th>\n",
       "      <td>1b8xiXKd9Kk</td>\n",
       "      <td>art music painting van gogh caggiano floridia ...</td>\n",
       "      <td>buy art music painting van gogh caggiano flori...</td>\n",
       "      <td>art and music</td>\n",
       "    </tr>\n",
       "    <tr>\n",
       "      <th>4</th>\n",
       "      <td>unuiaZleQ5c</td>\n",
       "      <td>healing flute meditation music positive energy...</td>\n",
       "      <td>official youtube channel art living subscribe ...</td>\n",
       "      <td>art and music</td>\n",
       "    </tr>\n",
       "  </tbody>\n",
       "</table>\n",
       "</div>"
      ],
      "text/plain": [
       "      video_id                                              title  \\\n",
       "0  13E5azGDK1k  fine art music painting peaceful selection cal...   \n",
       "1  8XdHP_fQoB0      beautiful paintings beautiful classical music   \n",
       "2  tsKlRF2Gw1s                       great masterpieces art music   \n",
       "3  1b8xiXKd9Kk  art music painting van gogh caggiano floridia ...   \n",
       "4  unuiaZleQ5c  healing flute meditation music positive energy...   \n",
       "\n",
       "                                         description       category  \n",
       "0  calm melodies beautiful pictures debussy milen...  art and music  \n",
       "1  beautiful selected paintings combine best clas...  art and music  \n",
       "2  skip art museum come experience great masterpi...  art and music  \n",
       "3  buy art music painting van gogh caggiano flori...  art and music  \n",
       "4  official youtube channel art living subscribe ...  art and music  "
      ]
     },
     "execution_count": 16,
     "metadata": {
      "tags": []
     },
     "output_type": "execute_result"
    }
   ],
   "source": [
    "df1['description'] = preprocessed_description\n",
    "df1.head()"
   ]
  },
  {
   "cell_type": "markdown",
   "metadata": {
    "colab_type": "text",
    "id": "2uGiWbYY_KpX"
   },
   "source": [
    "**Here we are using the Title as well as Description for the purpose of classification**"
   ]
  },
  {
   "cell_type": "code",
   "execution_count": 0,
   "metadata": {
    "colab": {},
    "colab_type": "code",
    "id": "inrlqkCcYhwL"
   },
   "outputs": [],
   "source": [
    "df2 = df1['title']\n",
    "df3 = df1['description']\n",
    "new_df = df2+\" \"+df3"
   ]
  },
  {
   "cell_type": "code",
   "execution_count": 18,
   "metadata": {
    "colab": {
     "base_uri": "https://localhost:8080/",
     "height": 119
    },
    "colab_type": "code",
    "id": "xYGBGUJdYhtb",
    "outputId": "d238df4d-c476-4054-e391-353d8661960e"
   },
   "outputs": [
    {
     "data": {
      "text/plain": [
       "0    fine art music painting peaceful selection cal...\n",
       "1    beautiful paintings beautiful classical music ...\n",
       "2    great masterpieces art music skip art museum c...\n",
       "3    art music painting van gogh caggiano floridia ...\n",
       "4    healing flute meditation music positive energy...\n",
       "dtype: object"
      ]
     },
     "execution_count": 18,
     "metadata": {
      "tags": []
     },
     "output_type": "execute_result"
    }
   ],
   "source": [
    "new_df.head()"
   ]
  },
  {
   "cell_type": "code",
   "execution_count": 0,
   "metadata": {
    "colab": {},
    "colab_type": "code",
    "id": "fpjxvctAgj84"
   },
   "outputs": [],
   "source": [
    "X = new_df\n",
    "Y = df1['category']"
   ]
  },
  {
   "cell_type": "markdown",
   "metadata": {
    "colab_type": "text",
    "id": "Kqp-EVyM_gKv"
   },
   "source": [
    "# **Logistic Regression (Linear classifier)**"
   ]
  },
  {
   "cell_type": "code",
   "execution_count": 0,
   "metadata": {
    "colab": {},
    "colab_type": "code",
    "id": "8um1xOXjgrbv"
   },
   "outputs": [],
   "source": [
    "X_train, X_Test, Y_train, Y_Test = train_test_split(X,Y, test_size=0.2,stratify=Y)"
   ]
  },
  {
   "cell_type": "code",
   "execution_count": 0,
   "metadata": {
    "colab": {},
    "colab_type": "code",
    "id": "DxKh0HiSgsxd"
   },
   "outputs": [],
   "source": [
    "X_Train, X_Cross, Y_Train, Y_Cross = train_test_split(X_train, Y_train, test_size=0.2,stratify=Y_train)"
   ]
  },
  {
   "cell_type": "code",
   "execution_count": 0,
   "metadata": {
    "colab": {},
    "colab_type": "code",
    "id": "PoEzBKMAh2ea"
   },
   "outputs": [],
   "source": [
    "tf_idf=TfidfVectorizer(ngram_range=(1,2))"
   ]
  },
  {
   "cell_type": "code",
   "execution_count": 0,
   "metadata": {
    "colab": {},
    "colab_type": "code",
    "id": "q-6QTntuiLvF"
   },
   "outputs": [],
   "source": [
    "tf_idf.fit(X_Train)\n",
    "Train_TFIDF = tf_idf.transform(X_Train)\n",
    "CrossVal_TFIDF = tf_idf.transform(X_Cross)\n",
    "Test_TFIDF= tf_idf.transform(X_Test) "
   ]
  },
  {
   "cell_type": "markdown",
   "metadata": {
    "colab_type": "text",
    "id": "nwjG7LuP_3nt"
   },
   "source": [
    "**Hyperparameter Tuning ( lambda )**"
   ]
  },
  {
   "cell_type": "code",
   "execution_count": 24,
   "metadata": {
    "colab": {
     "base_uri": "https://localhost:8080/",
     "height": 71
    },
    "colab_type": "code",
    "id": "_A9JvLQfjWpH",
    "outputId": "08298b39-bc5a-459b-e71f-a7b8a34d6ab3"
   },
   "outputs": [
    {
     "name": "stderr",
     "output_type": "stream",
     "text": [
      "/usr/local/lib/python3.6/dist-packages/sklearn/linear_model/logistic.py:433: FutureWarning: Default solver will be changed to 'lbfgs' in 0.22. Specify a solver to silence this warning.\n",
      "  FutureWarning)\n"
     ]
    }
   ],
   "source": [
    "c=[0.0001,0.001,0.01,0.1,1,10,100,1000]\n",
    "Train_F1_TFIDF = []\n",
    "CrossVal_F1_TFIDF = []\n",
    "for i in c:\n",
    "  logreg = LogisticRegression(C=i,penalty='l2',multi_class='ovr')\n",
    "  logreg.fit(Train_TFIDF, Y_Train)\n",
    "  Train_predict = logreg.predict(Train_TFIDF)\n",
    "  score1 = f1_score(Y_Train, Train_predict, average='micro')\n",
    "  Train_F1_TFIDF.append(score1)\n",
    "  Cross_predict = logreg.predict(CrossVal_TFIDF)\n",
    "  score2 = f1_score(Y_Cross,Cross_predict,average='micro')\n",
    "  CrossVal_F1_TFIDF.append(score2)"
   ]
  },
  {
   "cell_type": "code",
   "execution_count": 0,
   "metadata": {
    "colab": {},
    "colab_type": "code",
    "id": "975H6SS5j5Wt"
   },
   "outputs": [],
   "source": [
    "C=[]\n",
    "for i in range(len(c)):\n",
    "  C.append(math.log(c[i]))"
   ]
  },
  {
   "cell_type": "code",
   "execution_count": 26,
   "metadata": {
    "colab": {
     "base_uri": "https://localhost:8080/",
     "height": 295
    },
    "colab_type": "code",
    "id": "mZtqftLQlQ1S",
    "outputId": "5ae8fb37-b48a-4962-ed71-778c40201c65"
   },
   "outputs": [
    {
     "data": {
      "image/png": "[encoded data removed]",
      "text/plain": [
       "<Figure size 432x288 with 1 Axes>"
      ]
     },
     "metadata": {
      "tags": []
     },
     "output_type": "display_data"
    }
   ],
   "source": [
    "plt.plot(C, Train_F1_TFIDF, label='Train F1',)\n",
    "plt.scatter(C, Train_F1_TFIDF)\n",
    "plt.plot(C, CrossVal_F1_TFIDF, label='CrossVal F1')\n",
    "plt.scatter(C, CrossVal_F1_TFIDF)\n",
    "plt.legend()\n",
    "plt.xlabel(\"alpha : hyperparameter\")\n",
    "plt.ylabel(\"F1 score\")\n",
    "plt.title(\"ERROR PLOTS\")\n",
    "plt.show()"
   ]
  },
  {
   "cell_type": "code",
   "execution_count": 27,
   "metadata": {
    "colab": {
     "base_uri": "https://localhost:8080/",
     "height": 34
    },
    "colab_type": "code",
    "id": "q6Bnz5lBlc6a",
    "outputId": "dce05676-b383-486c-916d-2090b27eff0d"
   },
   "outputs": [
    {
     "name": "stdout",
     "output_type": "stream",
     "text": [
      "0.01\n"
     ]
    }
   ],
   "source": [
    "optimal_inverse_lambda=c[CrossVal_F1_TFIDF.index(max(CrossVal_F1_TFIDF))]\n",
    "print(pow(optimal_inverse_lambda,-1))"
   ]
  },
  {
   "cell_type": "code",
   "execution_count": 28,
   "metadata": {
    "colab": {
     "base_uri": "https://localhost:8080/",
     "height": 71
    },
    "colab_type": "code",
    "id": "ly8ibtrQl9UB",
    "outputId": "5584284f-8706-46f3-cc48-ecce22fbf2aa"
   },
   "outputs": [
    {
     "name": "stderr",
     "output_type": "stream",
     "text": [
      "/usr/local/lib/python3.6/dist-packages/sklearn/linear_model/logistic.py:433: FutureWarning: Default solver will be changed to 'lbfgs' in 0.22. Specify a solver to silence this warning.\n",
      "  FutureWarning)\n"
     ]
    }
   ],
   "source": [
    "Classifier=LogisticRegression(C=optimal_inverse_lambda,penalty='l2',multi_class='ovr')\n",
    "Classifier.fit(Train_TFIDF, Y_Train)\n",
    "Y_Pred = Classifier.predict(Test_TFIDF)\n",
    "final_score = f1_score(Y_Test, Y_Pred, average='micro')"
   ]
  },
  {
   "cell_type": "code",
   "execution_count": 29,
   "metadata": {
    "colab": {
     "base_uri": "https://localhost:8080/",
     "height": 34
    },
    "colab_type": "code",
    "id": "bbIFwaADmXCG",
    "outputId": "288e24c7-cb44-4e32-dff7-c82120848dcf"
   },
   "outputs": [
    {
     "data": {
      "text/plain": [
       "0.9723809523809523"
      ]
     },
     "execution_count": 29,
     "metadata": {
      "tags": []
     },
     "output_type": "execute_result"
    }
   ],
   "source": [
    "final_score"
   ]
  },
  {
   "cell_type": "code",
   "execution_count": 0,
   "metadata": {
    "colab": {},
    "colab_type": "code",
    "id": "XiQFu30wmvMi"
   },
   "outputs": [],
   "source": [
    "z=confusion_matrix(Y_Test, Y_Pred)"
   ]
  },
  {
   "cell_type": "code",
   "execution_count": 0,
   "metadata": {
    "colab": {},
    "colab_type": "code",
    "id": "vdPiSZXsmhH8"
   },
   "outputs": [],
   "source": [
    "c=[\"science and technology\",\"manufacturing\",\"art and music\",\"history\",\"food\",\"travel blog\"]"
   ]
  },
  {
   "cell_type": "markdown",
   "metadata": {
    "colab_type": "text",
    "id": "oZ_OBEaaADcM"
   },
   "source": [
    "**Confusion Matrix**"
   ]
  },
  {
   "cell_type": "code",
   "execution_count": 32,
   "metadata": {
    "colab": {
     "base_uri": "https://localhost:8080/",
     "height": 394
    },
    "colab_type": "code",
    "id": "q8nv1-6Omlgd",
    "outputId": "118888b6-2e09-424e-9fcb-613e3c82a706"
   },
   "outputs": [
    {
     "data": {
      "text/plain": [
       "<matplotlib.axes._subplots.AxesSubplot at 0x7f42def61a20>"
      ]
     },
     "execution_count": 32,
     "metadata": {
      "tags": []
     },
     "output_type": "execute_result"
    },
    {
     "data": {
      "image/png": "[encoded data removed]",
      "text/plain": [
       "<Figure size 432x288 with 2 Axes>"
      ]
     },
     "metadata": {
      "tags": []
     },
     "output_type": "display_data"
    }
   ],
   "source": [
    "Train_cm = pd.DataFrame(z,index = c,columns = c)\n",
    "sn.heatmap(Train_cm, annot=True,fmt=\"d\")"
   ]
  },
  {
   "cell_type": "code",
   "execution_count": 0,
   "metadata": {
    "colab": {},
    "colab_type": "code",
    "id": "N3HiUctMuBFn"
   },
   "outputs": [],
   "source": [
    "recall = np.diag(z) / np.sum(z, axis = 1)\n",
    "precision = np.diag(z) / np.sum(z, axis = 0)"
   ]
  },
  {
   "cell_type": "code",
   "execution_count": 34,
   "metadata": {
    "colab": {
     "base_uri": "https://localhost:8080/",
     "height": 51
    },
    "colab_type": "code",
    "id": "-JFe9ApjyjHY",
    "outputId": "378473a2-0f96-4b73-ae03-b97fa638732f"
   },
   "outputs": [
    {
     "data": {
      "text/plain": [
       "array([0.98587571, 0.98559078, 0.97398844, 0.96875   , 0.94366197,\n",
       "       0.97687861])"
      ]
     },
     "execution_count": 34,
     "metadata": {
      "tags": []
     },
     "output_type": "execute_result"
    }
   ],
   "source": [
    "recall"
   ]
  },
  {
   "cell_type": "code",
   "execution_count": 35,
   "metadata": {
    "colab": {
     "base_uri": "https://localhost:8080/",
     "height": 51
    },
    "colab_type": "code",
    "id": "-VFa7IJVykra",
    "outputId": "18e96298-7f55-4391-c77f-81bc442824d2"
   },
   "outputs": [
    {
     "data": {
      "text/plain": [
       "array([0.95095368, 0.99418605, 0.98538012, 0.96327684, 0.95988539,\n",
       "       0.98255814])"
      ]
     },
     "execution_count": 35,
     "metadata": {
      "tags": []
     },
     "output_type": "execute_result"
    }
   ],
   "source": [
    "precision"
   ]
  },
  {
   "cell_type": "code",
   "execution_count": 36,
   "metadata": {
    "colab": {
     "base_uri": "https://localhost:8080/",
     "height": 51
    },
    "colab_type": "code",
    "id": "ddSlWLda3Fl4",
    "outputId": "52a6edc6-f72b-494b-b177-3cafc1c959b5"
   },
   "outputs": [
    {
     "data": {
      "text/plain": [
       "array([0.96809986, 0.98986975, 0.97965116, 0.96600567, 0.95170455,\n",
       "       0.97971014])"
      ]
     },
     "execution_count": 36,
     "metadata": {
      "tags": []
     },
     "output_type": "execute_result"
    }
   ],
   "source": [
    "2*(precision * recall) / (precision + recall) # F1 Score"
   ]
  },
  {
   "cell_type": "markdown",
   "metadata": {
    "colab_type": "text",
    "id": "olsLHxC_BbZq"
   },
   "source": [
    "**Metrics Plot**"
   ]
  },
  {
   "cell_type": "code",
   "execution_count": 37,
   "metadata": {
    "colab": {
     "base_uri": "https://localhost:8080/",
     "height": 295
    },
    "colab_type": "code",
    "id": "hLuHN-Mxyo36",
    "outputId": "a7d8cc26-6e15-44ba-9700-9a03c024f6bf"
   },
   "outputs": [
    {
     "data": {
      "image/png": "[encoded data removed]",
      "text/plain": [
       "<Figure size 432x288 with 1 Axes>"
      ]
     },
     "metadata": {
      "tags": []
     },
     "output_type": "display_data"
    }
   ],
   "source": [
    "plt.plot(c,precision, label='precision')\n",
    "plt.scatter(c,precision)\n",
    "plt.plot(c,recall, label='recall')\n",
    "plt.scatter(c,recall)\n",
    "plt.plot(c,2*(precision * recall) / (precision + recall) , label='F1 score')\n",
    "plt.scatter(c,2*(precision * recall) / (precision + recall))\n",
    "plt.legend()\n",
    "plt.xlabel(\"Categories \")\n",
    "plt.ylabel(\"Scores\")\n",
    "plt.title(\"PLOTS\")\n",
    "\n",
    "plt.show()"
   ]
  },
  {
   "cell_type": "markdown",
   "metadata": {
    "colab_type": "text",
    "id": "4dOk2Hl_AH1G"
   },
   "source": [
    "**Observations :**\n",
    "\n",
    "*   Optimal value of lambda is 0.01\n",
    "*   The algorithm works very well .\n",
    "\n"
   ]
  },
  {
   "cell_type": "markdown",
   "metadata": {
    "colab_type": "text",
    "id": "M3inMe67AuRw"
   },
   "source": [
    "# **Shallow NN ( 2 hidden layer neural net )**"
   ]
  },
  {
   "cell_type": "markdown",
   "metadata": {
    "colab_type": "text",
    "id": "Ho8aGkkgBJq1"
   },
   "source": [
    "**Importing libraries**"
   ]
  },
  {
   "cell_type": "code",
   "execution_count": 38,
   "metadata": {
    "colab": {
     "base_uri": "https://localhost:8080/",
     "height": 34
    },
    "colab_type": "code",
    "id": "1T2t2op2z95k",
    "outputId": "0d56f26c-fd6e-4c45-faba-3e72d5ea2cc9"
   },
   "outputs": [
    {
     "name": "stderr",
     "output_type": "stream",
     "text": [
      "Using TensorFlow backend.\n"
     ]
    }
   ],
   "source": [
    "from keras.utils import np_utils \n",
    "from keras.initializers import RandomNormal\n",
    "from keras.models import Sequential \n",
    "from keras.layers import Dense, Activation \n",
    "from keras.optimizers import Adam\n",
    "from keras.layers.normalization import BatchNormalization\n",
    "from keras.layers import Dropout\n",
    "from numpy import array\n",
    "from numpy import argmax\n",
    "from sklearn.preprocessing import LabelEncoder\n",
    "from sklearn.preprocessing import OneHotEncoder\n",
    "from sklearn import preprocessing\n",
    "import keras\n",
    "from sklearn.metrics import accuracy_score\n",
    "from sklearn.metrics import precision_score\n",
    "from sklearn.metrics import recall_score\n",
    "from sklearn.metrics import f1_score"
   ]
  },
  {
   "cell_type": "code",
   "execution_count": 0,
   "metadata": {
    "colab": {},
    "colab_type": "code",
    "id": "323GWHjQA8Sw"
   },
   "outputs": [],
   "source": [
    "X_Train, X_Test, Y_Train, Y_Test = train_test_split(X,Y, test_size=0.3,stratify=Y)"
   ]
  },
  {
   "cell_type": "code",
   "execution_count": 40,
   "metadata": {
    "colab": {
     "base_uri": "https://localhost:8080/",
     "height": 136
    },
    "colab_type": "code",
    "id": "KVCrNkjh5Q5n",
    "outputId": "df1ff47f-1a76-45bf-ce9b-c2bd157e2612"
   },
   "outputs": [
    {
     "data": {
      "text/plain": [
       "science and technology    1242\n",
       "art and music             1238\n",
       "manufacturing             1231\n",
       "travel blog               1212\n",
       "food                      1212\n",
       "history                   1212\n",
       "Name: category, dtype: int64"
      ]
     },
     "execution_count": 40,
     "metadata": {
      "tags": []
     },
     "output_type": "execute_result"
    }
   ],
   "source": [
    "Y_Train.value_counts()"
   ]
  },
  {
   "cell_type": "code",
   "execution_count": 0,
   "metadata": {
    "colab": {},
    "colab_type": "code",
    "id": "_nNQuNZ2Zhl1"
   },
   "outputs": [],
   "source": [
    "Y_Train=array(Y_Train)"
   ]
  },
  {
   "cell_type": "code",
   "execution_count": 42,
   "metadata": {
    "colab": {
     "base_uri": "https://localhost:8080/",
     "height": 51
    },
    "colab_type": "code",
    "id": "NxzOn000ZhgL",
    "outputId": "9f0da209-588f-4963-e4b1-630667b51631"
   },
   "outputs": [
    {
     "name": "stdout",
     "output_type": "stream",
     "text": [
      "['manufacturing' 'history' 'science and technology' ... 'food' 'food'\n",
      " 'history']\n"
     ]
    }
   ],
   "source": [
    "label_encoder = LabelEncoder()\n",
    "integer_encoded = label_encoder.fit_transform(Y_Train)\n",
    "print(Y_Train)"
   ]
  },
  {
   "cell_type": "code",
   "execution_count": 43,
   "metadata": {
    "colab": {
     "base_uri": "https://localhost:8080/",
     "height": 224
    },
    "colab_type": "code",
    "id": "OGGMo5KOZhdF",
    "outputId": "3f29e431-4e69-440a-d89a-25e3dfbb3544"
   },
   "outputs": [
    {
     "name": "stdout",
     "output_type": "stream",
     "text": [
      "[[0. 0. 0. 1. 0. 0.]\n",
      " [0. 0. 1. 0. 0. 0.]\n",
      " [0. 0. 0. 0. 1. 0.]\n",
      " ...\n",
      " [0. 1. 0. 0. 0. 0.]\n",
      " [0. 1. 0. 0. 0. 0.]\n",
      " [0. 0. 1. 0. 0. 0.]]\n"
     ]
    },
    {
     "name": "stderr",
     "output_type": "stream",
     "text": [
      "/usr/local/lib/python3.6/dist-packages/sklearn/preprocessing/_encoders.py:371: FutureWarning: The handling of integer data will change in version 0.22. Currently, the categories are determined based on the range [0, max(values)], while in the future they will be determined based on the unique values.\n",
      "If you want the future behaviour and silence this warning, you can specify \"categories='auto'\".\n",
      "In case you used a LabelEncoder before this OneHotEncoder to convert the categories to integers, then you can now use the OneHotEncoder directly.\n",
      "  warnings.warn(msg, FutureWarning)\n"
     ]
    }
   ],
   "source": [
    "onehot_encoder = OneHotEncoder(sparse=False)\n",
    "integer_encoded = integer_encoded.reshape(len(integer_encoded), 1)\n",
    "onehot_encoded = onehot_encoder.fit_transform(integer_encoded)\n",
    "print(onehot_encoded)"
   ]
  },
  {
   "cell_type": "code",
   "execution_count": 0,
   "metadata": {
    "colab": {},
    "colab_type": "code",
    "id": "qZvm23ItdDCF"
   },
   "outputs": [],
   "source": [
    "Y_Train=onehot_encoded"
   ]
  },
  {
   "cell_type": "code",
   "execution_count": 0,
   "metadata": {
    "colab": {},
    "colab_type": "code",
    "id": "QGDA3VYPe5eT"
   },
   "outputs": [],
   "source": [
    "Y_Test=array(Y_Test)"
   ]
  },
  {
   "cell_type": "code",
   "execution_count": 46,
   "metadata": {
    "colab": {
     "base_uri": "https://localhost:8080/",
     "height": 34
    },
    "colab_type": "code",
    "id": "IHTHVI8Aaf3N",
    "outputId": "1860c988-ba61-43e0-9f2c-4fb400707630"
   },
   "outputs": [
    {
     "name": "stdout",
     "output_type": "stream",
     "text": [
      "[1 0 0 ... 0 0 5]\n"
     ]
    }
   ],
   "source": [
    "label_encoder = LabelEncoder()\n",
    "integer_encoded = label_encoder.fit_transform(Y_Test)\n",
    "print(integer_encoded)"
   ]
  },
  {
   "cell_type": "code",
   "execution_count": 47,
   "metadata": {
    "colab": {
     "base_uri": "https://localhost:8080/",
     "height": 224
    },
    "colab_type": "code",
    "id": "jizzDCBQaf0i",
    "outputId": "f61c9053-e776-40cc-9d7d-abc6659e4c2b"
   },
   "outputs": [
    {
     "name": "stdout",
     "output_type": "stream",
     "text": [
      "[[0. 1. 0. 0. 0. 0.]\n",
      " [1. 0. 0. 0. 0. 0.]\n",
      " [1. 0. 0. 0. 0. 0.]\n",
      " ...\n",
      " [1. 0. 0. 0. 0. 0.]\n",
      " [1. 0. 0. 0. 0. 0.]\n",
      " [0. 0. 0. 0. 0. 1.]]\n"
     ]
    },
    {
     "name": "stderr",
     "output_type": "stream",
     "text": [
      "/usr/local/lib/python3.6/dist-packages/sklearn/preprocessing/_encoders.py:371: FutureWarning: The handling of integer data will change in version 0.22. Currently, the categories are determined based on the range [0, max(values)], while in the future they will be determined based on the unique values.\n",
      "If you want the future behaviour and silence this warning, you can specify \"categories='auto'\".\n",
      "In case you used a LabelEncoder before this OneHotEncoder to convert the categories to integers, then you can now use the OneHotEncoder directly.\n",
      "  warnings.warn(msg, FutureWarning)\n"
     ]
    }
   ],
   "source": [
    "onehot_encoder = OneHotEncoder(sparse=False)\n",
    "integer_encoded = integer_encoded.reshape(len(integer_encoded), 1)\n",
    "onehot_encoded = onehot_encoder.fit_transform(integer_encoded)\n",
    "print(onehot_encoded)"
   ]
  },
  {
   "cell_type": "code",
   "execution_count": 0,
   "metadata": {
    "colab": {},
    "colab_type": "code",
    "id": "zCVxcRladOJF"
   },
   "outputs": [],
   "source": [
    "Y_Test=onehot_encoded"
   ]
  },
  {
   "cell_type": "code",
   "execution_count": 0,
   "metadata": {
    "colab": {},
    "colab_type": "code",
    "id": "OO4RSBtD9lcq"
   },
   "outputs": [],
   "source": [
    "tf_idf=TfidfVectorizer(ngram_range=(1,2))"
   ]
  },
  {
   "cell_type": "code",
   "execution_count": 0,
   "metadata": {
    "colab": {},
    "colab_type": "code",
    "id": "E8d4esHb711i"
   },
   "outputs": [],
   "source": [
    "tf_idf.fit(X_Train)\n",
    "Train_TFIDF = tf_idf.transform(X_Train)\n",
    "Test_TFIDF= tf_idf.transform(X_Test) "
   ]
  },
  {
   "cell_type": "code",
   "execution_count": 0,
   "metadata": {
    "colab": {},
    "colab_type": "code",
    "id": "K4GRWSxr71zE"
   },
   "outputs": [],
   "source": [
    "X_Train = preprocessing.normalize(Train_TFIDF)\n",
    "X_Test = preprocessing.normalize(Test_TFIDF)"
   ]
  },
  {
   "cell_type": "code",
   "execution_count": 0,
   "metadata": {
    "colab": {},
    "colab_type": "code",
    "id": "oSWduExz71wF"
   },
   "outputs": [],
   "source": [
    "output_dim = 6\n",
    "input_dim = X_Train.shape[1]\n",
    "batch_size = 64 \n",
    "nb_epoch = 20"
   ]
  },
  {
   "cell_type": "code",
   "execution_count": 0,
   "metadata": {
    "colab": {},
    "colab_type": "code",
    "id": "emqbXP1L71tQ"
   },
   "outputs": [],
   "source": [
    "model_Relu = Sequential()"
   ]
  },
  {
   "cell_type": "code",
   "execution_count": 54,
   "metadata": {
    "colab": {
     "base_uri": "https://localhost:8080/",
     "height": 1057
    },
    "colab_type": "code",
    "id": "g18wT2xP_ysh",
    "outputId": "28295385-cccc-4550-c3f9-e8581ff694ed"
   },
   "outputs": [
    {
     "name": "stdout",
     "output_type": "stream",
     "text": [
      "WARNING:tensorflow:From /usr/local/lib/python3.6/dist-packages/tensorflow/python/framework/op_def_library.py:263: colocate_with (from tensorflow.python.framework.ops) is deprecated and will be removed in a future version.\n",
      "Instructions for updating:\n",
      "Colocations handled automatically by placer.\n",
      "WARNING:tensorflow:From /usr/local/lib/python3.6/dist-packages/tensorflow/python/ops/math_ops.py:3066: to_int32 (from tensorflow.python.ops.math_ops) is deprecated and will be removed in a future version.\n",
      "Instructions for updating:\n",
      "Use tf.cast instead.\n",
      "Train on 7347 samples, validate on 3149 samples\n",
      "Epoch 1/20\n",
      "7347/7347 [==============================] - 8s 1ms/step - loss: 1.0313 - acc: 0.7200 - val_loss: 0.1766 - val_acc: 0.9559\n",
      "Epoch 2/20\n",
      "7347/7347 [==============================] - 6s 847us/step - loss: 0.0403 - acc: 0.9947 - val_loss: 0.0989 - val_acc: 0.9667\n",
      "Epoch 3/20\n",
      "7347/7347 [==============================] - 6s 847us/step - loss: 0.0055 - acc: 0.9990 - val_loss: 0.0990 - val_acc: 0.9679\n",
      "Epoch 4/20\n",
      "7347/7347 [==============================] - 6s 848us/step - loss: 0.0044 - acc: 0.9990 - val_loss: 0.0952 - val_acc: 0.9695\n",
      "Epoch 5/20\n",
      "7347/7347 [==============================] - 6s 842us/step - loss: 0.0041 - acc: 0.9989 - val_loss: 0.0960 - val_acc: 0.9673\n",
      "Epoch 6/20\n",
      "7347/7347 [==============================] - 6s 845us/step - loss: 0.0038 - acc: 0.9992 - val_loss: 0.0979 - val_acc: 0.9660\n",
      "Epoch 7/20\n",
      "7347/7347 [==============================] - 6s 858us/step - loss: 0.0037 - acc: 0.9990 - val_loss: 0.0937 - val_acc: 0.9686\n",
      "Epoch 8/20\n",
      "7347/7347 [==============================] - 6s 851us/step - loss: 0.0031 - acc: 0.9990 - val_loss: 0.0924 - val_acc: 0.9692\n",
      "Epoch 9/20\n",
      "7347/7347 [==============================] - 6s 846us/step - loss: 0.0036 - acc: 0.9989 - val_loss: 0.0903 - val_acc: 0.9686\n",
      "Epoch 10/20\n",
      "7347/7347 [==============================] - 6s 854us/step - loss: 0.0030 - acc: 0.9990 - val_loss: 0.1013 - val_acc: 0.9670\n",
      "Epoch 11/20\n",
      "7347/7347 [==============================] - 6s 868us/step - loss: 0.0025 - acc: 0.9992 - val_loss: 0.0936 - val_acc: 0.9705\n",
      "Epoch 12/20\n",
      "7347/7347 [==============================] - 6s 848us/step - loss: 0.0035 - acc: 0.9990 - val_loss: 0.1282 - val_acc: 0.9559\n",
      "Epoch 13/20\n",
      "7347/7347 [==============================] - 7s 893us/step - loss: 0.0026 - acc: 0.9992 - val_loss: 0.1012 - val_acc: 0.9667\n",
      "Epoch 14/20\n",
      "7347/7347 [==============================] - 7s 924us/step - loss: 0.0023 - acc: 0.9990 - val_loss: 0.1060 - val_acc: 0.9638\n",
      "Epoch 15/20\n",
      "7347/7347 [==============================] - 7s 907us/step - loss: 0.0025 - acc: 0.9992 - val_loss: 0.0898 - val_acc: 0.9689\n",
      "Epoch 16/20\n",
      "7347/7347 [==============================] - 7s 886us/step - loss: 0.0026 - acc: 0.9992 - val_loss: 0.1134 - val_acc: 0.9628\n",
      "Epoch 17/20\n",
      "7347/7347 [==============================] - 7s 892us/step - loss: 0.0024 - acc: 0.9992 - val_loss: 0.1050 - val_acc: 0.9638\n",
      "Epoch 18/20\n",
      "7347/7347 [==============================] - 7s 921us/step - loss: 0.0028 - acc: 0.9990 - val_loss: 0.1075 - val_acc: 0.9628\n",
      "Epoch 19/20\n",
      "7347/7347 [==============================] - 7s 897us/step - loss: 0.0021 - acc: 0.9990 - val_loss: 0.1059 - val_acc: 0.9660\n",
      "Epoch 20/20\n",
      "7347/7347 [==============================] - 6s 865us/step - loss: 0.0026 - acc: 0.9992 - val_loss: 0.1010 - val_acc: 0.9657\n",
      "_________________________________________________________________\n",
      "Layer (type)                 Output Shape              Param #   \n",
      "=================================================================\n",
      "dense_1 (Dense)              (None, 512)               30605312  \n",
      "_________________________________________________________________\n",
      "dense_2 (Dense)              (None, 128)               65664     \n",
      "_________________________________________________________________\n",
      "dense_3 (Dense)              (None, 6)                 774       \n",
      "=================================================================\n",
      "Total params: 30,671,750\n",
      "Trainable params: 30,671,750\n",
      "Non-trainable params: 0\n",
      "_________________________________________________________________\n"
     ]
    }
   ],
   "source": [
    "model_Relu.add(Dense(512, activation='relu', input_dim=input_dim , kernel_initializer=RandomNormal(mean=0.0, stddev=0.1, seed=None)))\n",
    "model_Relu.add(Dense(128, activation='relu',kernel_initializer=RandomNormal(mean=0.0, stddev=0.1, seed=None)))\n",
    "model_Relu.add(Dense(output_dim, activation='softmax'))\n",
    "model_Relu.compile(optimizer='adam', loss='categorical_crossentropy', metrics=['accuracy'])\n",
    "history= model_Relu.fit(X_Train, Y_Train, batch_size=batch_size, epochs=nb_epoch, verbose=1, validation_data=(X_Test, Y_Test))\n",
    "model_Relu.summary()"
   ]
  },
  {
   "cell_type": "code",
   "execution_count": 55,
   "metadata": {
    "colab": {
     "base_uri": "https://localhost:8080/",
     "height": 180
    },
    "colab_type": "code",
    "id": "Xc1uq8qeAivX",
    "outputId": "4394f2e3-988e-482c-ec76-402d03f87f99"
   },
   "outputs": [
    {
     "data": {
      "text/plain": [
       "<matplotlib.legend.Legend at 0x7f42979d89e8>"
      ]
     },
     "execution_count": 55,
     "metadata": {
      "tags": []
     },
     "output_type": "execute_result"
    },
    {
     "data": {
      "image/png": "[encoded data removed]",
      "text/plain": [
       "<Figure size 432x288 with 1 Axes>"
      ]
     },
     "metadata": {
      "tags": []
     },
     "output_type": "display_data"
    }
   ],
   "source": [
    "plt.subplot(211)\n",
    "plt.title('Loss')\n",
    "plt.plot(history.history['loss'], label='train')\n",
    "plt.plot(history.history['val_loss'], label='test')\n",
    "plt.legend()"
   ]
  },
  {
   "cell_type": "code",
   "execution_count": 56,
   "metadata": {
    "colab": {
     "base_uri": "https://localhost:8080/",
     "height": 163
    },
    "colab_type": "code",
    "id": "Ypn-znhCr1_m",
    "outputId": "bc914463-519e-4ff4-8a04-52bbc68d5429"
   },
   "outputs": [
    {
     "data": {
      "image/png": "[encoded data removed]",
      "text/plain": [
       "<Figure size 432x288 with 1 Axes>"
      ]
     },
     "metadata": {
      "tags": []
     },
     "output_type": "display_data"
    }
   ],
   "source": [
    "plt.subplot(212)\n",
    "plt.title('Accuracy')\n",
    "plt.plot(history.history['acc'], label='train')\n",
    "plt.plot(history.history['val_acc'], label='test')\n",
    "plt.legend()\n",
    "plt.show()"
   ]
  },
  {
   "cell_type": "code",
   "execution_count": 0,
   "metadata": {
    "colab": {},
    "colab_type": "code",
    "id": "M_e03J_l7TEJ"
   },
   "outputs": [],
   "source": [
    "yhat_classes = model_Relu.predict_classes(X_Test, verbose=0)"
   ]
  },
  {
   "cell_type": "code",
   "execution_count": 0,
   "metadata": {
    "colab": {},
    "colab_type": "code",
    "id": "L88_lD6A3nXv"
   },
   "outputs": [],
   "source": [
    "matrix = confusion_matrix(integer_encoded, yhat_classes)"
   ]
  },
  {
   "cell_type": "markdown",
   "metadata": {
    "colab_type": "text",
    "id": "ZJVLLkZ_BTur"
   },
   "source": [
    "**Confusion Matrix**"
   ]
  },
  {
   "cell_type": "code",
   "execution_count": 59,
   "metadata": {
    "colab": {
     "base_uri": "https://localhost:8080/",
     "height": 394
    },
    "colab_type": "code",
    "id": "KneIxqYl3nVL",
    "outputId": "608af360-3e84-4492-cd73-82f9c3d4d1d7"
   },
   "outputs": [
    {
     "data": {
      "text/plain": [
       "<matplotlib.axes._subplots.AxesSubplot at 0x7f429794a588>"
      ]
     },
     "execution_count": 59,
     "metadata": {
      "tags": []
     },
     "output_type": "execute_result"
    },
    {
     "data": {
      "image/png": "[encoded data removed]",
      "text/plain": [
       "<Figure size 432x288 with 2 Axes>"
      ]
     },
     "metadata": {
      "tags": []
     },
     "output_type": "display_data"
    }
   ],
   "source": [
    "Train_cm = pd.DataFrame(matrix,index = c,columns = c)\n",
    "sn.heatmap(Train_cm, annot=True,fmt=\"d\")"
   ]
  },
  {
   "cell_type": "code",
   "execution_count": 0,
   "metadata": {
    "colab": {},
    "colab_type": "code",
    "id": "oUXCaUch3nR2"
   },
   "outputs": [],
   "source": [
    "recall = np.diag(matrix) / np.sum(matrix, axis = 1)\n",
    "precision = np.diag(matrix) / np.sum(matrix, axis = 0)"
   ]
  },
  {
   "cell_type": "code",
   "execution_count": 61,
   "metadata": {
    "colab": {
     "base_uri": "https://localhost:8080/",
     "height": 51
    },
    "colab_type": "code",
    "id": "CcQlU_H18Uge",
    "outputId": "b167b912-ce37-4826-9995-c15b647aae52"
   },
   "outputs": [
    {
     "data": {
      "text/plain": [
       "array([0.97579143, 0.97560976, 0.96246391, 0.95200784, 0.96178938,\n",
       "       0.96622889])"
      ]
     },
     "execution_count": 61,
     "metadata": {
      "tags": []
     },
     "output_type": "execute_result"
    }
   ],
   "source": [
    "2*(precision * recall) / (precision + recall) # F1 Score"
   ]
  },
  {
   "cell_type": "code",
   "execution_count": 62,
   "metadata": {
    "colab": {
     "base_uri": "https://localhost:8080/",
     "height": 51
    },
    "colab_type": "code",
    "id": "vyOmqhWP8Svz",
    "outputId": "dbae49b4-5469-41d0-f084-98f1f9fa06cd"
   },
   "outputs": [
    {
     "data": {
      "text/plain": [
       "array([0.96500921, 0.99009901, 0.96153846, 0.98580122, 0.95378928,\n",
       "       0.94149909])"
      ]
     },
     "execution_count": 62,
     "metadata": {
      "tags": []
     },
     "output_type": "execute_result"
    }
   ],
   "source": [
    "precision"
   ]
  },
  {
   "cell_type": "code",
   "execution_count": 63,
   "metadata": {
    "colab": {
     "base_uri": "https://localhost:8080/",
     "height": 51
    },
    "colab_type": "code",
    "id": "0_eWmgXR8RFW",
    "outputId": "2421be6f-7f0d-477e-fd25-f52d18b6bb5c"
   },
   "outputs": [
    {
     "data": {
      "text/plain": [
       "array([0.98681733, 0.96153846, 0.96339114, 0.92045455, 0.96992481,\n",
       "       0.99229287])"
      ]
     },
     "execution_count": 63,
     "metadata": {
      "tags": []
     },
     "output_type": "execute_result"
    }
   ],
   "source": [
    "recall"
   ]
  },
  {
   "cell_type": "markdown",
   "metadata": {
    "colab_type": "text",
    "id": "Zw1LvS-ABYDA"
   },
   "source": [
    "**Metrics Plot**"
   ]
  },
  {
   "cell_type": "code",
   "execution_count": 64,
   "metadata": {
    "colab": {
     "base_uri": "https://localhost:8080/",
     "height": 295
    },
    "colab_type": "code",
    "id": "l3LB9pSxxC9A",
    "outputId": "a91d0cf2-73c0-47de-c6e9-709378e31da2"
   },
   "outputs": [
    {
     "data": {
      "image/png": "[encoded data removed]",
      "text/plain": [
       "<Figure size 432x288 with 1 Axes>"
      ]
     },
     "metadata": {
      "tags": []
     },
     "output_type": "display_data"
    }
   ],
   "source": [
    "plt.plot(c,precision, label='precision')\n",
    "plt.scatter(c,precision)\n",
    "plt.plot(c,recall, label='recall')\n",
    "plt.scatter(c,recall)\n",
    "plt.plot(c,2*(precision * recall) / (precision + recall) , label='F1 score')\n",
    "plt.scatter(c,2*(precision * recall) / (precision + recall))\n",
    "plt.legend()\n",
    "plt.xlabel(\"Categories \")\n",
    "plt.ylabel(\"Scores\")\n",
    "plt.title(\"PLOTS\")\n",
    "plt.show()"
   ]
  },
  {
   "cell_type": "markdown",
   "metadata": {
    "colab_type": "text",
    "id": "I32NJtPcCaKk"
   },
   "source": [
    "**Observations :**\n",
    "\n",
    "*   Test Accuracy : - 0.9657\n",
    "*   Test Loss :- 0.1010\n",
    "\n"
   ]
  },
  {
   "cell_type": "markdown",
   "metadata": {
    "colab_type": "text",
    "id": "BslrKzE-CEhv"
   },
   "source": [
    "# **LSTM**"
   ]
  },
  {
   "cell_type": "markdown",
   "metadata": {
    "colab_type": "text",
    "id": "dyADosafBni6"
   },
   "source": [
    "**Importing libraries **"
   ]
  },
  {
   "cell_type": "code",
   "execution_count": 0,
   "metadata": {
    "colab": {},
    "colab_type": "code",
    "id": "sMauOGcy3UKQ"
   },
   "outputs": [],
   "source": [
    "import numpy\n",
    "from keras.models import Sequential\n",
    "from keras.layers import Dense\n",
    "from keras.layers import LSTM\n",
    "from keras.layers.embeddings import Embedding\n",
    "from keras.preprocessing import sequence\n",
    "numpy.random.seed(7)\n",
    "from keras.layers import SpatialDropout1D\n",
    "from keras.callbacks import EarlyStopping\n",
    "from keras.preprocessing import text"
   ]
  },
  {
   "cell_type": "code",
   "execution_count": 66,
   "metadata": {
    "colab": {
     "base_uri": "https://localhost:8080/",
     "height": 34
    },
    "colab_type": "code",
    "id": "GdBPOxWJmyjK",
    "outputId": "c80ef12a-8e26-4dce-96ff-8548c7d98e2b"
   },
   "outputs": [
    {
     "name": "stdout",
     "output_type": "stream",
     "text": [
      "Found 16941 unique tokens.\n"
     ]
    }
   ],
   "source": [
    "MAX_NB_WORDS = 50000\n",
    "MAX_SEQUENCE_LENGTH = 300\n",
    "EMBEDDING_DIM = 100\n",
    "tokenizer = text.Tokenizer(num_words=MAX_NB_WORDS, filters='!\"#$%&()*+,-./:;<=>?@[\\]^_`{|}~', lower=True)\n",
    "tokenizer.fit_on_texts(X.values)\n",
    "word_index = tokenizer.word_index\n",
    "print('Found %s unique tokens.' % len(word_index))"
   ]
  },
  {
   "cell_type": "code",
   "execution_count": 67,
   "metadata": {
    "colab": {
     "base_uri": "https://localhost:8080/",
     "height": 34
    },
    "colab_type": "code",
    "id": "K1Rq1MXcmyg8",
    "outputId": "48e61aa1-ca0e-4880-a795-2b5313a9880e"
   },
   "outputs": [
    {
     "name": "stdout",
     "output_type": "stream",
     "text": [
      "Shape of data tensor: (10496, 300)\n"
     ]
    }
   ],
   "source": [
    "x = tokenizer.texts_to_sequences(X.values)\n",
    "x = sequence.pad_sequences(x, maxlen=MAX_SEQUENCE_LENGTH)\n",
    "print('Shape of data tensor:', x.shape)"
   ]
  },
  {
   "cell_type": "code",
   "execution_count": 68,
   "metadata": {
    "colab": {
     "base_uri": "https://localhost:8080/",
     "height": 51
    },
    "colab_type": "code",
    "id": "VmRXfwolmybI",
    "outputId": "3d30a1db-7419-498d-8aac-74894847dcc6"
   },
   "outputs": [
    {
     "name": "stdout",
     "output_type": "stream",
     "text": [
      "(7347, 300) (7347,)\n",
      "(3149, 300) (3149,)\n"
     ]
    }
   ],
   "source": [
    "X_train, X_test, Y_train, Y_test = train_test_split(x,Y, test_size=0.3,stratify=Y)\n",
    "print(X_train.shape,Y_train.shape)\n",
    "print(X_test.shape,Y_test.shape)\n"
   ]
  },
  {
   "cell_type": "code",
   "execution_count": 0,
   "metadata": {
    "colab": {},
    "colab_type": "code",
    "id": "fuOtVU-zPoOR"
   },
   "outputs": [],
   "source": [
    "Y_train=array(Y_train)"
   ]
  },
  {
   "cell_type": "code",
   "execution_count": 70,
   "metadata": {
    "colab": {
     "base_uri": "https://localhost:8080/",
     "height": 51
    },
    "colab_type": "code",
    "id": "Te8bUMmXPoOS",
    "outputId": "e64785ad-ee01-466f-8480-de1f4610a752"
   },
   "outputs": [
    {
     "name": "stdout",
     "output_type": "stream",
     "text": [
      "['science and technology' 'art and music' 'manufacturing' ...\n",
      " 'art and music' 'manufacturing' 'manufacturing']\n"
     ]
    }
   ],
   "source": [
    "label_encoder = LabelEncoder()\n",
    "integer_encoded = label_encoder.fit_transform(Y_train)\n",
    "print(Y_train)"
   ]
  },
  {
   "cell_type": "code",
   "execution_count": 71,
   "metadata": {
    "colab": {
     "base_uri": "https://localhost:8080/",
     "height": 224
    },
    "colab_type": "code",
    "id": "qgkMgSiqPoOW",
    "outputId": "cc6522e0-16ce-420e-d2f8-84229e6ca28a"
   },
   "outputs": [
    {
     "name": "stdout",
     "output_type": "stream",
     "text": [
      "[[0. 0. 0. 0. 1. 0.]\n",
      " [1. 0. 0. 0. 0. 0.]\n",
      " [0. 0. 0. 1. 0. 0.]\n",
      " ...\n",
      " [1. 0. 0. 0. 0. 0.]\n",
      " [0. 0. 0. 1. 0. 0.]\n",
      " [0. 0. 0. 1. 0. 0.]]\n"
     ]
    },
    {
     "name": "stderr",
     "output_type": "stream",
     "text": [
      "/usr/local/lib/python3.6/dist-packages/sklearn/preprocessing/_encoders.py:371: FutureWarning: The handling of integer data will change in version 0.22. Currently, the categories are determined based on the range [0, max(values)], while in the future they will be determined based on the unique values.\n",
      "If you want the future behaviour and silence this warning, you can specify \"categories='auto'\".\n",
      "In case you used a LabelEncoder before this OneHotEncoder to convert the categories to integers, then you can now use the OneHotEncoder directly.\n",
      "  warnings.warn(msg, FutureWarning)\n"
     ]
    }
   ],
   "source": [
    "onehot_encoder = OneHotEncoder(sparse=False)\n",
    "integer_encoded = integer_encoded.reshape(len(integer_encoded), 1)\n",
    "onehot_encoded = onehot_encoder.fit_transform(integer_encoded)\n",
    "print(onehot_encoded)"
   ]
  },
  {
   "cell_type": "code",
   "execution_count": 0,
   "metadata": {
    "colab": {},
    "colab_type": "code",
    "id": "CwAo0mhdPoOf"
   },
   "outputs": [],
   "source": [
    "Y_train=onehot_encoded"
   ]
  },
  {
   "cell_type": "code",
   "execution_count": 0,
   "metadata": {
    "colab": {},
    "colab_type": "code",
    "id": "_qthQfcwPoOr"
   },
   "outputs": [],
   "source": [
    "Y_test=array(Y_test)"
   ]
  },
  {
   "cell_type": "code",
   "execution_count": 74,
   "metadata": {
    "colab": {
     "base_uri": "https://localhost:8080/",
     "height": 34
    },
    "colab_type": "code",
    "id": "Y9f1A_4WPoOw",
    "outputId": "ce8aad74-2e3c-4493-eb6a-feebc515963b"
   },
   "outputs": [
    {
     "name": "stdout",
     "output_type": "stream",
     "text": [
      "[2 0 0 ... 2 0 5]\n"
     ]
    }
   ],
   "source": [
    "label_encoder = LabelEncoder()\n",
    "integer_encoded = label_encoder.fit_transform(Y_test)\n",
    "print(integer_encoded)"
   ]
  },
  {
   "cell_type": "code",
   "execution_count": 75,
   "metadata": {
    "colab": {
     "base_uri": "https://localhost:8080/",
     "height": 224
    },
    "colab_type": "code",
    "id": "TjTIXNuhPoO1",
    "outputId": "44f8b6dc-43ac-46a0-d275-219e0e3c4416"
   },
   "outputs": [
    {
     "name": "stdout",
     "output_type": "stream",
     "text": [
      "[[0. 0. 1. 0. 0. 0.]\n",
      " [1. 0. 0. 0. 0. 0.]\n",
      " [1. 0. 0. 0. 0. 0.]\n",
      " ...\n",
      " [0. 0. 1. 0. 0. 0.]\n",
      " [1. 0. 0. 0. 0. 0.]\n",
      " [0. 0. 0. 0. 0. 1.]]\n"
     ]
    },
    {
     "name": "stderr",
     "output_type": "stream",
     "text": [
      "/usr/local/lib/python3.6/dist-packages/sklearn/preprocessing/_encoders.py:371: FutureWarning: The handling of integer data will change in version 0.22. Currently, the categories are determined based on the range [0, max(values)], while in the future they will be determined based on the unique values.\n",
      "If you want the future behaviour and silence this warning, you can specify \"categories='auto'\".\n",
      "In case you used a LabelEncoder before this OneHotEncoder to convert the categories to integers, then you can now use the OneHotEncoder directly.\n",
      "  warnings.warn(msg, FutureWarning)\n"
     ]
    }
   ],
   "source": [
    "onehot_encoder = OneHotEncoder(sparse=False)\n",
    "integer_encoded = integer_encoded.reshape(len(integer_encoded), 1)\n",
    "onehot_encoded = onehot_encoder.fit_transform(integer_encoded)\n",
    "print(onehot_encoded)"
   ]
  },
  {
   "cell_type": "code",
   "execution_count": 0,
   "metadata": {
    "colab": {},
    "colab_type": "code",
    "id": "0tsOzJPkPoO8"
   },
   "outputs": [],
   "source": [
    "Y_test=onehot_encoded"
   ]
  },
  {
   "cell_type": "code",
   "execution_count": 77,
   "metadata": {
    "colab": {
     "base_uri": "https://localhost:8080/",
     "height": 445
    },
    "colab_type": "code",
    "id": "m6tCvnTumyYm",
    "outputId": "c165dbc8-20e5-44e4-8ec1-f3807e812f3d"
   },
   "outputs": [
    {
     "name": "stdout",
     "output_type": "stream",
     "text": [
      "WARNING:tensorflow:From /usr/local/lib/python3.6/dist-packages/keras/backend/tensorflow_backend.py:3445: calling dropout (from tensorflow.python.ops.nn_ops) with keep_prob is deprecated and will be removed in a future version.\n",
      "Instructions for updating:\n",
      "Please use `rate` instead of `keep_prob`. Rate should be set to `rate = 1 - keep_prob`.\n",
      "Train on 6612 samples, validate on 735 samples\n",
      "Epoch 1/10\n",
      "6612/6612 [==============================] - 59s 9ms/step - loss: 1.2917 - acc: 0.6573 - val_loss: 0.4749 - val_acc: 0.9116\n",
      "Epoch 2/10\n",
      "6612/6612 [==============================] - 58s 9ms/step - loss: 0.2303 - acc: 0.9534 - val_loss: 0.1874 - val_acc: 0.9497\n",
      "Epoch 3/10\n",
      "6612/6612 [==============================] - 59s 9ms/step - loss: 0.0572 - acc: 0.9897 - val_loss: 0.1530 - val_acc: 0.9524\n",
      "Epoch 4/10\n",
      "6612/6612 [==============================] - 56s 9ms/step - loss: 0.0261 - acc: 0.9952 - val_loss: 0.1235 - val_acc: 0.9673\n",
      "Epoch 5/10\n",
      "6612/6612 [==============================] - 57s 9ms/step - loss: 0.0149 - acc: 0.9974 - val_loss: 0.1275 - val_acc: 0.9673\n",
      "Epoch 6/10\n",
      "6612/6612 [==============================] - 58s 9ms/step - loss: 0.0089 - acc: 0.9995 - val_loss: 0.1400 - val_acc: 0.9605\n",
      "Epoch 7/10\n",
      "6612/6612 [==============================] - 56s 8ms/step - loss: 0.0058 - acc: 0.9995 - val_loss: 0.1204 - val_acc: 0.9660\n",
      "Epoch 8/10\n",
      "6612/6612 [==============================] - 58s 9ms/step - loss: 0.0144 - acc: 0.9970 - val_loss: 0.1730 - val_acc: 0.9483\n",
      "Epoch 9/10\n",
      "6612/6612 [==============================] - 57s 9ms/step - loss: 0.0059 - acc: 0.9991 - val_loss: 0.1427 - val_acc: 0.9578\n",
      "Epoch 10/10\n",
      "6612/6612 [==============================] - 56s 8ms/step - loss: 0.0035 - acc: 0.9997 - val_loss: 0.1446 - val_acc: 0.9551\n"
     ]
    }
   ],
   "source": [
    "model = Sequential()\n",
    "model.add(Embedding(MAX_NB_WORDS, EMBEDDING_DIM, input_length=x.shape[1]))\n",
    "model.add(SpatialDropout1D(0.2))\n",
    "model.add(LSTM(100, dropout=0.2, recurrent_dropout=0.2))\n",
    "model.add(Dense(6, activation='softmax'))\n",
    "model.compile(loss='categorical_crossentropy', optimizer='adam', metrics=['accuracy'])\n",
    "\n",
    "epochs = 10\n",
    "batch_size = 64\n",
    "\n",
    "history = model.fit(X_train, Y_train, epochs=epochs, batch_size=batch_size,validation_split=0.1,callbacks=[EarlyStopping(monitor='val_loss', patience=3, min_delta=0.0001)])"
   ]
  },
  {
   "cell_type": "code",
   "execution_count": 78,
   "metadata": {
    "colab": {
     "base_uri": "https://localhost:8080/",
     "height": 85
    },
    "colab_type": "code",
    "id": "ZG-MpHGUmyVZ",
    "outputId": "a3f57b35-ab6f-4de2-b384-6b2a76b3f14c"
   },
   "outputs": [
    {
     "name": "stdout",
     "output_type": "stream",
     "text": [
      "3149/3149 [==============================] - 19s 6ms/step\n",
      "Test set\n",
      "  Loss: 0.125\n",
      "  Accuracy: 0.965\n"
     ]
    }
   ],
   "source": [
    "accr = model.evaluate(X_test,Y_test)\n",
    "print('Test set\\n  Loss: {:0.3f}\\n  Accuracy: {:0.3f}'.format(accr[0],accr[1]))\n"
   ]
  },
  {
   "cell_type": "code",
   "execution_count": 0,
   "metadata": {
    "colab": {},
    "colab_type": "code",
    "id": "bAruGUlUNVGB"
   },
   "outputs": [],
   "source": [
    "yhat_classes = model.predict_classes(X_test, verbose=0)"
   ]
  },
  {
   "cell_type": "code",
   "execution_count": 0,
   "metadata": {
    "colab": {},
    "colab_type": "code",
    "id": "FOq5WMNXzCK2"
   },
   "outputs": [],
   "source": [
    "matrix = confusion_matrix(integer_encoded, yhat_classes)"
   ]
  },
  {
   "cell_type": "markdown",
   "metadata": {
    "colab_type": "text",
    "id": "VlBWgEiNBvrx"
   },
   "source": [
    "**Confusion Matrix**"
   ]
  },
  {
   "cell_type": "code",
   "execution_count": 81,
   "metadata": {
    "colab": {
     "base_uri": "https://localhost:8080/",
     "height": 394
    },
    "colab_type": "code",
    "id": "4QSru5mzzCIX",
    "outputId": "210322ae-f272-4c3c-d135-9b2fdf2c1d58"
   },
   "outputs": [
    {
     "data": {
      "text/plain": [
       "<matplotlib.axes._subplots.AxesSubplot at 0x7f42979a1080>"
      ]
     },
     "execution_count": 81,
     "metadata": {
      "tags": []
     },
     "output_type": "execute_result"
    },
    {
     "data": {
      "image/png": "[encoded data removed]",
      "text/plain": [
       "<Figure size 432x288 with 2 Axes>"
      ]
     },
     "metadata": {
      "tags": []
     },
     "output_type": "display_data"
    }
   ],
   "source": [
    "Train_cm = pd.DataFrame(matrix,index = c,columns = c)\n",
    "sn.heatmap(Train_cm, annot=True,fmt=\"d\")"
   ]
  },
  {
   "cell_type": "code",
   "execution_count": 0,
   "metadata": {
    "colab": {},
    "colab_type": "code",
    "id": "0EqWONPTzCFe"
   },
   "outputs": [],
   "source": [
    "recall = np.diag(matrix) / np.sum(matrix, axis = 1)\n",
    "precision = np.diag(matrix) / np.sum(matrix, axis = 0)"
   ]
  },
  {
   "cell_type": "code",
   "execution_count": 83,
   "metadata": {
    "colab": {
     "base_uri": "https://localhost:8080/",
     "height": 51
    },
    "colab_type": "code",
    "id": "OynN1MyQ8Y2Z",
    "outputId": "0c5bde27-9a2d-464b-bd2a-39a5c6c37c56"
   },
   "outputs": [
    {
     "data": {
      "text/plain": [
       "array([0.96798493, 0.96923077, 0.96146435, 0.94886364, 0.97180451,\n",
       "       0.96917148])"
      ]
     },
     "execution_count": 83,
     "metadata": {
      "tags": []
     },
     "output_type": "execute_result"
    }
   ],
   "source": [
    "recall"
   ]
  },
  {
   "cell_type": "code",
   "execution_count": 84,
   "metadata": {
    "colab": {
     "base_uri": "https://localhost:8080/",
     "height": 51
    },
    "colab_type": "code",
    "id": "Te9xt2hn8Yq6",
    "outputId": "dd1d1454-fe08-4899-d45b-f57c7acf2ba1"
   },
   "outputs": [
    {
     "data": {
      "text/plain": [
       "array([0.97904762, 0.96551724, 0.99007937, 0.96718147, 0.92985612,\n",
       "       0.95992366])"
      ]
     },
     "execution_count": 84,
     "metadata": {
      "tags": []
     },
     "output_type": "execute_result"
    }
   ],
   "source": [
    "precision"
   ]
  },
  {
   "cell_type": "code",
   "execution_count": 85,
   "metadata": {
    "colab": {
     "base_uri": "https://localhost:8080/",
     "height": 51
    },
    "colab_type": "code",
    "id": "tAg1Y99Y8Ynk",
    "outputId": "54a0ed29-bdda-4b02-dfcf-110c7ecea113"
   },
   "outputs": [
    {
     "data": {
      "text/plain": [
       "array([0.97348485, 0.96737044, 0.97556207, 0.95793499, 0.95036765,\n",
       "       0.96452541])"
      ]
     },
     "execution_count": 85,
     "metadata": {
      "tags": []
     },
     "output_type": "execute_result"
    }
   ],
   "source": [
    "2*(precision * recall) / (precision + recall) # F1 Score"
   ]
  },
  {
   "cell_type": "markdown",
   "metadata": {
    "colab_type": "text",
    "id": "eH7C7FCiBzPU"
   },
   "source": [
    "**Metrics Plot**"
   ]
  },
  {
   "cell_type": "code",
   "execution_count": 86,
   "metadata": {
    "colab": {
     "base_uri": "https://localhost:8080/",
     "height": 295
    },
    "colab_type": "code",
    "id": "QomB0Iy4zfZb",
    "outputId": "acaa0121-9b19-4a69-cdbe-e7a4cbd7dec7"
   },
   "outputs": [
    {
     "data": {
      "image/png": "[encoded data removed]",
      "text/plain": [
       "<Figure size 432x288 with 1 Axes>"
      ]
     },
     "metadata": {
      "tags": []
     },
     "output_type": "display_data"
    }
   ],
   "source": [
    "plt.plot(c,precision, label='precision')\n",
    "plt.scatter(c,precision)\n",
    "plt.plot(c,recall, label='recall')\n",
    "plt.scatter(c,recall)\n",
    "plt.plot(c,2*(precision * recall) / (precision + recall) , label='F1 score')\n",
    "plt.scatter(c,2*(precision * recall) / (precision + recall))\n",
    "plt.legend()\n",
    "plt.xlabel(\"Categories \")\n",
    "plt.ylabel(\"Scores\")\n",
    "plt.title(\"PLOTS\")\n",
    "plt.show()"
   ]
  },
  {
   "cell_type": "markdown",
   "metadata": {
    "colab_type": "text",
    "id": "Co5yDCcNCqQb"
   },
   "source": [
    "**Observations :**\n",
    "\n",
    "*   Test Accuracy : - 0.9551\n",
    "*   Test Loss :- 0.1446\n",
    "\n"
   ]
  }
 ],
 "metadata": {
  "accelerator": "GPU",
  "colab": {
   "name": "Precily.ipynb",
   "provenance": [],
   "version": "0.3.2"
  },
  "kernelspec": {
   "display_name": "Python 3",
   "language": "python",
   "name": "python3"
  },
  "language_info": {
   "codemirror_mode": {
    "name": "ipython",
    "version": 3
   },
   "file_extension": ".py",
   "mimetype": "text/x-python",
   "name": "python",
   "nbconvert_exporter": "python",
   "pygments_lexer": "ipython3",
   "version": "3.6.5"
  }
 },
 "nbformat": 4,
 "nbformat_minor": 1
}
